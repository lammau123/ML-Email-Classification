{
 "cells": [
  {
   "cell_type": "code",
   "execution_count": 199,
   "id": "ba130da4",
   "metadata": {},
   "outputs": [],
   "source": [
    "import os\n",
    "import email\n",
    "import csv\n",
    "from datetime import datetime\n",
    "import pandas as pd\n",
    "import warnings\n",
    "from sklearn.exceptions import ConvergenceWarning\n",
    "# Filter out ConvergenceWarning\n",
    "warnings.filterwarnings(\"ignore\", category=ConvergenceWarning)\n",
    "\n",
    "# -----------------------------------------------------------------------------------------------------------------------\n",
    "\n",
    "class EnronEmailExtraction:\n",
    "    def __init__(self, path):\n",
    "        self.path = path\n",
    "        self.email_list = []\n",
    "        self.data_list = []\n",
    "    \n",
    "    def load_email_list(self):\n",
    "        if os.path.exists(self.path):\n",
    "            for name in os.listdir(self.path):\n",
    "                person_folder = os.path.join(self.path, name)\n",
    "                for folder in os.listdir(person_folder):\n",
    "                    email_folder = os.path.join(person_folder, folder)\n",
    "                    if os.path.isdir(person_folder) and os.path.exists(email_folder) and os.path.isdir(email_folder):\n",
    "                        for name in os.listdir(email_folder):\n",
    "                            file_path = os.path.join(email_folder, name)\n",
    "                            if os.path.isfile(file_path):\n",
    "                                self.email_list.append(file_path)\n",
    "\n",
    "    @staticmethod\n",
    "    def extract_fields(mail_content, headers):\n",
    "        data = []\n",
    "        msg = email.message_from_string(mail_content)\n",
    "        for header in headers:\n",
    "            if header == 'Body':\n",
    "                data.append(msg.get_payload(decode=True).decode().replace('\\t',' ').replace('\\n', ' '))\n",
    "            elif msg[header]:\n",
    "                data.append(msg[header].replace('\\n', ' ').replace('\\t', ' '))\n",
    "            else:\n",
    "                data.append(' ')\n",
    "\n",
    "        return data\n",
    "\n",
    "    @staticmethod\n",
    "    def read_mail(mail_path):\n",
    "        data = ''\n",
    "        with open(mail_path, 'r') as f:\n",
    "            data = f.read()\n",
    "        return data\n",
    "\n",
    "    def extract_emails(self, headers, start=None, end=None):\n",
    "        _start, _end = 0, len(self.email_list)\n",
    "        \n",
    "        if start is not None:\n",
    "            _start = start\n",
    "        if end is not None:\n",
    "            _end = end\n",
    "            \n",
    "        for mail_path in self.email_list[start: end]:\n",
    "            print(\"Reading {}\".format(mail_path))\n",
    "            data = EnronEmailExtraction.read_mail(mail_path)\n",
    "            self.data_list.append(EnronEmailExtraction.extract_fields(data, headers))\n",
    "    \n",
    "    # csv_file: exported file name\n",
    "    # headers: a list of headers of the csv file\n",
    "    # headers_format: dict {header: format_pattern} of the header columns\n",
    "    def export_to_csv(self, csv_file_path, headers = ['From', 'To','Subject', 'Date', 'X-Folder', 'Body'], start=None, end=None):\n",
    "        self.extract_emails(headers, start, end)\n",
    "        with open(csv_file_path, 'w', newline='', encoding='utf-8') as f:\n",
    "            csv_writer = csv.writer(f, delimiter='\\t')\n",
    "            csv_writer.writerow(headers)\n",
    "            for row in self.data_list:\n",
    "                csv_writer.writerow(row)\\\n",
    "                \n",
    "# -------------------------------------------------------------------------------------------------------------------------\n",
    "\n",
    "class SytheticEmailExtraction:\n",
    "    def __init__(self, path, target):\n",
    "        self.path = path\n",
    "        self.data_list = []\n",
    "        self.target = target\n",
    "\n",
    "    @staticmethod\n",
    "    def read_text(path):\n",
    "        data = ''\n",
    "        with open(path, 'r') as f:\n",
    "            data = f.read()\n",
    "        return data\n",
    "\n",
    "    def extract_email(self):\n",
    "        if os.path.exists(self.path):\n",
    "            emails = SytheticEmailExtraction.read_text(self.path)\n",
    "            emails_arr = emails.split(\"---\")\n",
    "\n",
    "            rows = []\n",
    "            for email in emails_arr:\n",
    "                row = []\n",
    "                if email.strip():\n",
    "                    split_data = email.strip().replace('\\n\\n','\\n').strip().split('\\n')\n",
    "                    subject = split_data[0].split(\":\")[1].strip()\n",
    "                    body = split_data[2:-2]\n",
    "                    row.append(subject)\n",
    "                    row.append(\" \".join(body).replace('\\t',' ').replace('\\n', ' '))\n",
    "                    row.append(self.target)\n",
    "                    self.data_list.append(row)\n",
    "\n",
    "    def export_to_csv(self, csv_file_path, headers=['Subject', 'Body', 'Targets']):\n",
    "        with open(csv_file_path, 'w', newline='', encoding='utf-8') as f:\n",
    "            csv_writer = csv.writer(f)\n",
    "            csv_writer.writerow(headers)\n",
    "            for row in self.data_list:\n",
    "                csv_writer.writerow(row)\n",
    "                "
   ]
  },
  {
   "cell_type": "code",
   "execution_count": 200,
   "id": "e0a0f969",
   "metadata": {},
   "outputs": [],
   "source": [
    "import nltk\n",
    "#nltk.download('stopwords')\n",
    "#nltk.download('punkt')\n",
    "from nltk.corpus import stopwords\n",
    "from nltk.tokenize import word_tokenize\n",
    "from sklearn.metrics import confusion_matrix, classification_report\n",
    "from sklearn.model_selection import cross_validate\n",
    "from sklearn.svm import LinearSVC\n",
    "from sklearn.model_selection import GridSearchCV\n",
    "import numpy as np\n",
    "import matplotlib.pyplot as plt\n",
    "from sklearn.model_selection import learning_curve\n",
    "from imblearn.over_sampling import SMOTE\n",
    "import time\n",
    "from sklearn.feature_extraction.text import CountVectorizer\n",
    "from sklearn.preprocessing import LabelEncoder\n",
    "from sklearn.model_selection import train_test_split\n",
    "from sklearn.model_selection import cross_validate\n",
    "from sklearn.naive_bayes import MultinomialNB\n",
    "\n",
    "def hyperparameters_tuning(model, X, y, param_grid):\n",
    "    # Initialize GridSearchCV\n",
    "    grid_search = GridSearchCV(estimator=model, param_grid=param_grid, cv=5, scoring='accuracy')\n",
    "\n",
    "    # Perform grid search\n",
    "    grid_search.fit(X, y)\n",
    "\n",
    "    # Print the best hyperparameters found\n",
    "    print(\"Best hyperparameters:\", grid_search.best_params_)\n",
    "\n",
    "    # Evaluate the best model on the test set\n",
    "    best_model = grid_search.best_estimator_\n",
    "    train_accuracy = best_model.score(X_res, y_res)\n",
    "    test_accuracy = best_model.score(X_test_bow, test_data['Target_Encode'])\n",
    "    # Create confusion matrix\n",
    "    y_pred = best_model.predict(X_test_bow)\n",
    "    conf_matrix = confusion_matrix(test_data['Target_Encode'], y_pred)\n",
    "    print('-------------------------------------------------------------------------------------------------------------')\n",
    "    print(\"Train accuracy:\", train_accuracy)\n",
    "    print(\"Test accuracy:\", test_accuracy)\n",
    "    print('-------------------------------------------------------------------------------------------------------------')\n",
    "    # Print classification report\n",
    "    print(classification_report(test_data['Target_Encode'], y_pred, target_names=encoder.classes_))\n",
    "    print('-------------------------------------------------------------------------------------------------------------')\n",
    "    # Plot confusion matrix\n",
    "    plt.figure(figsize=(8, 6))\n",
    "    sns.heatmap(conf_matrix, annot=True, fmt='d', cmap='Blues', xticklabels=encoder.classes_, yticklabels=encoder.classes_)\n",
    "    plt.xlabel('Predicted Labels')\n",
    "    plt.ylabel('True Labels')\n",
    "    plt.title('Confusion Matrix')\n",
    "    plt.show()\n",
    "    \n",
    "    return grid_search.best_params_\n",
    "\n",
    "def unique_words_count(text):\n",
    "    words = text.split()\n",
    "    return len(set(words))\n",
    "\n",
    "def summarize_emails(data_df):\n",
    "    total_document_length = data_df['Subject'].apply(lambda text: len(text)).sum()\n",
    "    total_document_length += data_df['Body'].apply(lambda text: len(text)).sum()\n",
    "    total_document = data_df.shape[0]\n",
    "    unique_words = data_df['Subject'].apply(unique_words_count).sum()\n",
    "    unique_words += data_df['Body'].apply(unique_words_count).sum()\n",
    "                                                   \n",
    "    print('Total Documents: ', total_document)\n",
    "    print('Document Length: {} words'.format(total_document_length))\n",
    "    print('Average Document Length: {} words'.format(total_document_length/total_document))\n",
    "    print('Vocabulary Size: {} unique words'.format(unique_words))\n",
    "    \n",
    "def remove_stopwords(text):\n",
    "    stop_words = set(stopwords.words('english'))\n",
    "    word_tokens = word_tokenize(text)\n",
    "    filtered_text = [word for word in word_tokens if word not in stop_words]\n",
    "    return ' '.join(filtered_text)\n",
    "\n",
    "def remove_punctuation(text):\n",
    "    tokens = word_tokenize(text)\n",
    "    tokens_without_punctuation = [token for token in tokens if token.isalnum()]\n",
    "    return ' '.join(tokens_without_punctuation)\n",
    "\n",
    "def remove_stopwords_and_punctuation(text):\n",
    "    return remove_stopwords(remove_punctuation(text))\n",
    "\n",
    "def perform_cross_validation_and_report(model, X, y):\n",
    "    start = time.time()\n",
    "    scoring = {\n",
    "            'acc': 'accuracy',\n",
    "            'f1_mac': 'f1_macro',\n",
    "            'jacc_mac': 'jaccard_macro'\n",
    "    }\n",
    "    scores = cross_validate(model, X, y, cv=5, scoring=scoring)\n",
    "    training_time = (time.time() - start)\n",
    "    print(\"accuracy: \", scores['test_acc'].mean())\n",
    "    print(\"f1_score: \", scores['test_f1_mac'].mean())\n",
    "    print(\"Jaccard_index: \", scores['test_jacc_mac'].mean())\n",
    "    print(\"time (sec): \", training_time)\n",
    "    print(\"\\n\") \n",
    "\n",
    "def perform_learning_curve_and_visualizarion(model, X, y):\n",
    "    # Define the number of training examples to plot learning curve\n",
    "    train_sizes = np.linspace(0.1, 1.0, 10)  # Use 10 different training sizes\n",
    "\n",
    "    # Generate learning curve data\n",
    "    train_sizes, train_scores, valid_scores = learning_curve(model, X, y, train_sizes=train_sizes, cv=5)\n",
    "\n",
    "    # Calculate mean and standard deviation of training and validation scores\n",
    "    train_mean = np.mean(train_scores, axis=1)\n",
    "    train_std = np.std(train_scores, axis=1)\n",
    "    valid_mean = np.mean(valid_scores, axis=1)\n",
    "    valid_std = np.std(valid_scores, axis=1)\n",
    "\n",
    "    # Plot learning curve\n",
    "    plt.figure(figsize=(10, 6))\n",
    "    plt.plot(train_sizes, train_mean, label='Training score', color='blue')\n",
    "    plt.fill_between(train_sizes, train_mean - train_std, train_mean + train_std, color='blue', alpha=0.1)\n",
    "    plt.plot(train_sizes, valid_mean, label='Cross-validation score', color='orange')\n",
    "    plt.fill_between(train_sizes, valid_mean - valid_std, valid_mean + valid_std, color='orange', alpha=0.1)\n",
    "    plt.title('Learning Curve')\n",
    "    plt.xlabel('Number of training examples')\n",
    "    plt.ylabel('Score')\n",
    "    plt.legend(loc='best')\n",
    "    plt.grid(True)\n",
    "    plt.show()"
   ]
  },
  {
   "cell_type": "markdown",
   "id": "dd16690f",
   "metadata": {},
   "source": [
    "# 1. Data Collection"
   ]
  },
  {
   "cell_type": "markdown",
   "id": "604bff30",
   "metadata": {},
   "source": [
    "### process enron email data"
   ]
  },
  {
   "cell_type": "markdown",
   "id": "681d15bf",
   "metadata": {},
   "source": [
    "path = os.path.join('.', 'enron_mail_20150507', 'maildir')\n",
    "csv_file_path = os.path.join('.', 'mails.csv')\n",
    "\n",
    "enron = EnronEmailExtraction(path=path)\n",
    "enron.load_email_list()\n",
    "enron.export_to_csv(csv_file_path)"
   ]
  },
  {
   "cell_type": "markdown",
   "id": "a8bb1521",
   "metadata": {},
   "source": [
    "date_format = '%a, %d %b %Y %H:%M:%S %z'\n",
    "folders = ['logistics', 'tw-commercial group', 'deal discrepancies', 'management', 'resumes', 'online trading']\n",
    "df = pd.read_csv('mails.csv', delimiter='\\t')\n",
    "df['Date'] = df['Date'].apply(lambda d: datetime.strptime(d[:-6], date_format))\n",
    "df['X-Folder'] = df['X-Folder'].fillna('')    \n",
    "df['X-Folder'] = df['X-Folder'].apply(lambda folder: folder.split(\"\\\\\")[-1].lower())\n",
    "df_filter = df[df['X-Folder'].isin(folders)].copy()\n",
    "mapping = {'resumes': 'HR', 'logistics': 'Shipping', 'tw-commercial group': 'Business', 'online trading': 'Sale'}\n",
    "df_filter['Targets'] = df_filter['X-Folder'].map(mapping)\n",
    "data.to_csv('enron_emails.csv', index=False)"
   ]
  },
  {
   "cell_type": "code",
   "execution_count": null,
   "id": "c5492df1",
   "metadata": {},
   "outputs": [],
   "source": [
    "pd.read_csv('enron_emails.csv')"
   ]
  },
  {
   "cell_type": "markdown",
   "id": "0c097d3a",
   "metadata": {},
   "source": [
    "### Process synthetic email data"
   ]
  },
  {
   "cell_type": "code",
   "execution_count": 201,
   "id": "fa1096ac",
   "metadata": {},
   "outputs": [],
   "source": [
    "text_file_path1 = os.path.join('.', 'Finance_email.txt')\n",
    "\n",
    "synthetic1 = SytheticEmailExtraction(text_file_path1, 'Finance')         \n",
    "synthetic1.extract_email()\n",
    "synthetic1.export_to_csv('finance_emails.csv', )"
   ]
  },
  {
   "cell_type": "code",
   "execution_count": 202,
   "id": "64e26439",
   "metadata": {},
   "outputs": [
    {
     "data": {
      "text/html": [
       "<div>\n",
       "<style scoped>\n",
       "    .dataframe tbody tr th:only-of-type {\n",
       "        vertical-align: middle;\n",
       "    }\n",
       "\n",
       "    .dataframe tbody tr th {\n",
       "        vertical-align: top;\n",
       "    }\n",
       "\n",
       "    .dataframe thead th {\n",
       "        text-align: right;\n",
       "    }\n",
       "</style>\n",
       "<table border=\"1\" class=\"dataframe\">\n",
       "  <thead>\n",
       "    <tr style=\"text-align: right;\">\n",
       "      <th></th>\n",
       "      <th>Subject</th>\n",
       "      <th>Body</th>\n",
       "      <th>Targets</th>\n",
       "    </tr>\n",
       "  </thead>\n",
       "  <tbody>\n",
       "    <tr>\n",
       "      <th>0</th>\n",
       "      <td>Clarification Needed on Incentive Program</td>\n",
       "      <td>I hope this email finds you well. I am writing...</td>\n",
       "      <td>Finance</td>\n",
       "    </tr>\n",
       "    <tr>\n",
       "      <th>1</th>\n",
       "      <td>Seeking Clarity on Incentive Program Details</td>\n",
       "      <td>I trust this email finds you well. I wanted to...</td>\n",
       "      <td>Finance</td>\n",
       "    </tr>\n",
       "    <tr>\n",
       "      <th>2</th>\n",
       "      <td>Questions Regarding Incentive Program Parameters</td>\n",
       "      <td>I hope you're doing well. I wanted to reach ou...</td>\n",
       "      <td>Finance</td>\n",
       "    </tr>\n",
       "    <tr>\n",
       "      <th>3</th>\n",
       "      <td>Inquiry Regarding Incentive Program Mechanics</td>\n",
       "      <td>I hope this email finds you well. I recently l...</td>\n",
       "      <td>Finance</td>\n",
       "    </tr>\n",
       "    <tr>\n",
       "      <th>4</th>\n",
       "      <td>Seeking Clarity on Incentive Program Guidelines</td>\n",
       "      <td>I trust this email finds you well. I am reachi...</td>\n",
       "      <td>Finance</td>\n",
       "    </tr>\n",
       "    <tr>\n",
       "      <th>...</th>\n",
       "      <td>...</td>\n",
       "      <td>...</td>\n",
       "      <td>...</td>\n",
       "    </tr>\n",
       "    <tr>\n",
       "      <th>588</th>\n",
       "      <td>Transparent Inquiry Regarding Company Trip Bud...</td>\n",
       "      <td>I hope you're doing well. As we plan for organ...</td>\n",
       "      <td>Finance</td>\n",
       "    </tr>\n",
       "    <tr>\n",
       "      <th>589</th>\n",
       "      <td>Exploring Sustainable Company Trip Options Wit...</td>\n",
       "      <td>I hope this email finds you well. As part of o...</td>\n",
       "      <td>Finance</td>\n",
       "    </tr>\n",
       "    <tr>\n",
       "      <th>590</th>\n",
       "      <td>Inquiring About Budget for Remote Company Trip...</td>\n",
       "      <td>I hope this email finds you well. With the ris...</td>\n",
       "      <td>Finance</td>\n",
       "    </tr>\n",
       "    <tr>\n",
       "      <th>591</th>\n",
       "      <td>Inquiry About Budget for Compliance Company Trip</td>\n",
       "      <td>I trust you're doing well. As we prioritize co...</td>\n",
       "      <td>Finance</td>\n",
       "    </tr>\n",
       "    <tr>\n",
       "      <th>592</th>\n",
       "      <td>Budget Inquiry for Company Trip Event</td>\n",
       "      <td>I trust you're doing well. We have an upcoming...</td>\n",
       "      <td>Finance</td>\n",
       "    </tr>\n",
       "  </tbody>\n",
       "</table>\n",
       "<p>593 rows × 3 columns</p>\n",
       "</div>"
      ],
      "text/plain": [
       "                                               Subject  \\\n",
       "0            Clarification Needed on Incentive Program   \n",
       "1         Seeking Clarity on Incentive Program Details   \n",
       "2     Questions Regarding Incentive Program Parameters   \n",
       "3        Inquiry Regarding Incentive Program Mechanics   \n",
       "4      Seeking Clarity on Incentive Program Guidelines   \n",
       "..                                                 ...   \n",
       "588  Transparent Inquiry Regarding Company Trip Bud...   \n",
       "589  Exploring Sustainable Company Trip Options Wit...   \n",
       "590  Inquiring About Budget for Remote Company Trip...   \n",
       "591   Inquiry About Budget for Compliance Company Trip   \n",
       "592              Budget Inquiry for Company Trip Event   \n",
       "\n",
       "                                                  Body  Targets  \n",
       "0    I hope this email finds you well. I am writing...  Finance  \n",
       "1    I trust this email finds you well. I wanted to...  Finance  \n",
       "2    I hope you're doing well. I wanted to reach ou...  Finance  \n",
       "3    I hope this email finds you well. I recently l...  Finance  \n",
       "4    I trust this email finds you well. I am reachi...  Finance  \n",
       "..                                                 ...      ...  \n",
       "588  I hope you're doing well. As we plan for organ...  Finance  \n",
       "589  I hope this email finds you well. As part of o...  Finance  \n",
       "590  I hope this email finds you well. With the ris...  Finance  \n",
       "591  I trust you're doing well. As we prioritize co...  Finance  \n",
       "592  I trust you're doing well. We have an upcoming...  Finance  \n",
       "\n",
       "[593 rows x 3 columns]"
      ]
     },
     "execution_count": 202,
     "metadata": {},
     "output_type": "execute_result"
    }
   ],
   "source": [
    "pd.read_csv('finance_emails.csv')"
   ]
  },
  {
   "cell_type": "code",
   "execution_count": 203,
   "id": "cf9a8920",
   "metadata": {},
   "outputs": [],
   "source": [
    "text_file_path2 = os.path.join('.', 'IT_email.txt')\n",
    "\n",
    "synthetic2 = SytheticEmailExtraction(text_file_path2, 'IT')         \n",
    "synthetic2.extract_email()\n",
    "synthetic2.export_to_csv('it_emails.csv')"
   ]
  },
  {
   "cell_type": "code",
   "execution_count": 204,
   "id": "f919f6a2",
   "metadata": {},
   "outputs": [
    {
     "data": {
      "text/html": [
       "<div>\n",
       "<style scoped>\n",
       "    .dataframe tbody tr th:only-of-type {\n",
       "        vertical-align: middle;\n",
       "    }\n",
       "\n",
       "    .dataframe tbody tr th {\n",
       "        vertical-align: top;\n",
       "    }\n",
       "\n",
       "    .dataframe thead th {\n",
       "        text-align: right;\n",
       "    }\n",
       "</style>\n",
       "<table border=\"1\" class=\"dataframe\">\n",
       "  <thead>\n",
       "    <tr style=\"text-align: right;\">\n",
       "      <th></th>\n",
       "      <th>Subject</th>\n",
       "      <th>Body</th>\n",
       "      <th>Targets</th>\n",
       "    </tr>\n",
       "  </thead>\n",
       "  <tbody>\n",
       "    <tr>\n",
       "      <th>0</th>\n",
       "      <td>Critical System Failure</td>\n",
       "      <td>We regret to inform you that our system has en...</td>\n",
       "      <td>IT</td>\n",
       "    </tr>\n",
       "    <tr>\n",
       "      <th>1</th>\n",
       "      <td>Network Connectivity Issues</td>\n",
       "      <td>We're writing to inform you that our network i...</td>\n",
       "      <td>IT</td>\n",
       "    </tr>\n",
       "    <tr>\n",
       "      <th>2</th>\n",
       "      <td>Software Application Crash</td>\n",
       "      <td>We're reaching out to inform you about a criti...</td>\n",
       "      <td>IT</td>\n",
       "    </tr>\n",
       "    <tr>\n",
       "      <th>3</th>\n",
       "      <td>Server Hardware Failure</td>\n",
       "      <td>We regret to inform you that one of our server...</td>\n",
       "      <td>IT</td>\n",
       "    </tr>\n",
       "    <tr>\n",
       "      <th>4</th>\n",
       "      <td>Immediate Attention Required</td>\n",
       "      <td>I hope this email finds you well. Our system d...</td>\n",
       "      <td>IT</td>\n",
       "    </tr>\n",
       "    <tr>\n",
       "      <th>...</th>\n",
       "      <td>...</td>\n",
       "      <td>...</td>\n",
       "      <td>...</td>\n",
       "    </tr>\n",
       "    <tr>\n",
       "      <th>755</th>\n",
       "      <td>Urgent</td>\n",
       "      <td>I hope you're doing well. We're facing an urge...</td>\n",
       "      <td>IT</td>\n",
       "    </tr>\n",
       "    <tr>\n",
       "      <th>756</th>\n",
       "      <td>Error Message</td>\n",
       "      <td>I hope you're doing well. We're encountering a...</td>\n",
       "      <td>IT</td>\n",
       "    </tr>\n",
       "    <tr>\n",
       "      <th>757</th>\n",
       "      <td>Issue with Access Database</td>\n",
       "      <td>I trust you're having a good day. We're facing...</td>\n",
       "      <td>IT</td>\n",
       "    </tr>\n",
       "    <tr>\n",
       "      <th>758</th>\n",
       "      <td>Issue with Access Database</td>\n",
       "      <td>I hope this email finds you well. We're encoun...</td>\n",
       "      <td>IT</td>\n",
       "    </tr>\n",
       "    <tr>\n",
       "      <th>759</th>\n",
       "      <td>Assistance Needed</td>\n",
       "      <td>I hope you're doing well. We're encountering i...</td>\n",
       "      <td>IT</td>\n",
       "    </tr>\n",
       "  </tbody>\n",
       "</table>\n",
       "<p>760 rows × 3 columns</p>\n",
       "</div>"
      ],
      "text/plain": [
       "                          Subject  \\\n",
       "0         Critical System Failure   \n",
       "1     Network Connectivity Issues   \n",
       "2      Software Application Crash   \n",
       "3         Server Hardware Failure   \n",
       "4    Immediate Attention Required   \n",
       "..                            ...   \n",
       "755                        Urgent   \n",
       "756                 Error Message   \n",
       "757    Issue with Access Database   \n",
       "758    Issue with Access Database   \n",
       "759             Assistance Needed   \n",
       "\n",
       "                                                  Body Targets  \n",
       "0    We regret to inform you that our system has en...      IT  \n",
       "1    We're writing to inform you that our network i...      IT  \n",
       "2    We're reaching out to inform you about a criti...      IT  \n",
       "3    We regret to inform you that one of our server...      IT  \n",
       "4    I hope this email finds you well. Our system d...      IT  \n",
       "..                                                 ...     ...  \n",
       "755  I hope you're doing well. We're facing an urge...      IT  \n",
       "756  I hope you're doing well. We're encountering a...      IT  \n",
       "757  I trust you're having a good day. We're facing...      IT  \n",
       "758  I hope this email finds you well. We're encoun...      IT  \n",
       "759  I hope you're doing well. We're encountering i...      IT  \n",
       "\n",
       "[760 rows x 3 columns]"
      ]
     },
     "execution_count": 204,
     "metadata": {},
     "output_type": "execute_result"
    }
   ],
   "source": [
    "pd.read_csv('it_emails.csv')"
   ]
  },
  {
   "cell_type": "markdown",
   "id": "7e9b78b3",
   "metadata": {},
   "source": [
    "# 2. Data Exploration"
   ]
  },
  {
   "cell_type": "markdown",
   "id": "10bdf1ef",
   "metadata": {},
   "source": [
    "#### Exploring enron email"
   ]
  },
  {
   "cell_type": "code",
   "execution_count": 205,
   "id": "dd0b1cad",
   "metadata": {},
   "outputs": [],
   "source": [
    "csv_file_path = os.path.join('.', 'enron_emails.csv')\n",
    "enron_df = pd.read_csv(csv_file_path)"
   ]
  },
  {
   "cell_type": "code",
   "execution_count": 206,
   "id": "91551c49",
   "metadata": {},
   "outputs": [
    {
     "data": {
      "text/html": [
       "<div>\n",
       "<style scoped>\n",
       "    .dataframe tbody tr th:only-of-type {\n",
       "        vertical-align: middle;\n",
       "    }\n",
       "\n",
       "    .dataframe tbody tr th {\n",
       "        vertical-align: top;\n",
       "    }\n",
       "\n",
       "    .dataframe thead th {\n",
       "        text-align: right;\n",
       "    }\n",
       "</style>\n",
       "<table border=\"1\" class=\"dataframe\">\n",
       "  <thead>\n",
       "    <tr style=\"text-align: right;\">\n",
       "      <th></th>\n",
       "      <th>From</th>\n",
       "      <th>To</th>\n",
       "      <th>Subject</th>\n",
       "      <th>Date</th>\n",
       "      <th>X-Folder</th>\n",
       "      <th>Body</th>\n",
       "      <th>Targets</th>\n",
       "    </tr>\n",
       "  </thead>\n",
       "  <tbody>\n",
       "    <tr>\n",
       "      <th>0</th>\n",
       "      <td>gay.mayeux@enron.com</td>\n",
       "      <td>sally.beck@enron.com</td>\n",
       "      <td>Opportunities</td>\n",
       "      <td>2001-04-19 12:01:00-07:00</td>\n",
       "      <td>resumes</td>\n",
       "      <td>Sally,  Thanks for taking the time to meet wit...</td>\n",
       "      <td>HR</td>\n",
       "    </tr>\n",
       "    <tr>\n",
       "      <th>1</th>\n",
       "      <td>gary.taylor@enron.com</td>\n",
       "      <td>toni.graham@enron.com, sally.beck@enron.com</td>\n",
       "      <td>Resume - Jasmine Master Katrak</td>\n",
       "      <td>2000-08-18 06:05:00-07:00</td>\n",
       "      <td>resumes</td>\n",
       "      <td>Toni -  Sally suggested I forward this resume ...</td>\n",
       "      <td>HR</td>\n",
       "    </tr>\n",
       "    <tr>\n",
       "      <th>2</th>\n",
       "      <td>tom.may@enron.com</td>\n",
       "      <td>sally.beck@enron.com</td>\n",
       "      <td>Resume for Margaret Dhont</td>\n",
       "      <td>2000-08-09 10:06:00-07:00</td>\n",
       "      <td>resumes</td>\n",
       "      <td>Sally,  As discussed, attached below is the re...</td>\n",
       "      <td>HR</td>\n",
       "    </tr>\n",
       "    <tr>\n",
       "      <th>3</th>\n",
       "      <td>grant.zimmerman@enron.com</td>\n",
       "      <td>sally.beck@enron.com</td>\n",
       "      <td>Re: Associates PRC Meeting</td>\n",
       "      <td>2000-07-21 04:12:00-07:00</td>\n",
       "      <td>resumes</td>\n",
       "      <td>Here's my resume for your review.    Grant W. ...</td>\n",
       "      <td>HR</td>\n",
       "    </tr>\n",
       "    <tr>\n",
       "      <th>4</th>\n",
       "      <td>shelly.friesenhahn@enron.com</td>\n",
       "      <td>sally.beck@enron.com</td>\n",
       "      <td>Mid year review - resume</td>\n",
       "      <td>2000-07-20 04:14:00-07:00</td>\n",
       "      <td>resumes</td>\n",
       "      <td>Sally,  Per your request, here is a copy of my...</td>\n",
       "      <td>HR</td>\n",
       "    </tr>\n",
       "  </tbody>\n",
       "</table>\n",
       "</div>"
      ],
      "text/plain": [
       "                           From                                           To  \\\n",
       "0          gay.mayeux@enron.com                         sally.beck@enron.com   \n",
       "1         gary.taylor@enron.com  toni.graham@enron.com, sally.beck@enron.com   \n",
       "2             tom.may@enron.com                         sally.beck@enron.com   \n",
       "3     grant.zimmerman@enron.com                         sally.beck@enron.com   \n",
       "4  shelly.friesenhahn@enron.com                         sally.beck@enron.com   \n",
       "\n",
       "                          Subject                       Date X-Folder  \\\n",
       "0                   Opportunities  2001-04-19 12:01:00-07:00  resumes   \n",
       "1  Resume - Jasmine Master Katrak  2000-08-18 06:05:00-07:00  resumes   \n",
       "2       Resume for Margaret Dhont  2000-08-09 10:06:00-07:00  resumes   \n",
       "3      Re: Associates PRC Meeting  2000-07-21 04:12:00-07:00  resumes   \n",
       "4        Mid year review - resume  2000-07-20 04:14:00-07:00  resumes   \n",
       "\n",
       "                                                Body Targets  \n",
       "0  Sally,  Thanks for taking the time to meet wit...      HR  \n",
       "1  Toni -  Sally suggested I forward this resume ...      HR  \n",
       "2  Sally,  As discussed, attached below is the re...      HR  \n",
       "3  Here's my resume for your review.    Grant W. ...      HR  \n",
       "4  Sally,  Per your request, here is a copy of my...      HR  "
      ]
     },
     "execution_count": 206,
     "metadata": {},
     "output_type": "execute_result"
    }
   ],
   "source": [
    "enron_df.head()"
   ]
  },
  {
   "cell_type": "code",
   "execution_count": 207,
   "id": "b4204a52",
   "metadata": {},
   "outputs": [
    {
     "name": "stdout",
     "output_type": "stream",
     "text": [
      "<class 'pandas.core.frame.DataFrame'>\n",
      "RangeIndex: 3530 entries, 0 to 3529\n",
      "Data columns (total 7 columns):\n",
      " #   Column    Non-Null Count  Dtype \n",
      "---  ------    --------------  ----- \n",
      " 0   From      3530 non-null   object\n",
      " 1   To        3483 non-null   object\n",
      " 2   Subject   3491 non-null   object\n",
      " 3   Date      3530 non-null   object\n",
      " 4   X-Folder  3530 non-null   object\n",
      " 5   Body      3530 non-null   object\n",
      " 6   Targets   3530 non-null   object\n",
      "dtypes: object(7)\n",
      "memory usage: 193.2+ KB\n"
     ]
    }
   ],
   "source": [
    "enron_df.info()"
   ]
  },
  {
   "cell_type": "code",
   "execution_count": 208,
   "id": "e1c77822",
   "metadata": {},
   "outputs": [
    {
     "data": {
      "text/plain": [
       "Subject    39\n",
       "Body        0\n",
       "Targets     0\n",
       "dtype: int64"
      ]
     },
     "execution_count": 208,
     "metadata": {},
     "output_type": "execute_result"
    }
   ],
   "source": [
    "# Investigate three columns, which are going to use to build the model\n",
    "enron_df[['Subject', 'Body', 'Targets']].isna().sum()"
   ]
  },
  {
   "cell_type": "code",
   "execution_count": 209,
   "id": "0becdd15",
   "metadata": {},
   "outputs": [
    {
     "data": {
      "text/plain": [
       "Subject    0\n",
       "Body       0\n",
       "Targets    0\n",
       "dtype: int64"
      ]
     },
     "execution_count": 209,
     "metadata": {},
     "output_type": "execute_result"
    }
   ],
   "source": [
    "# There are only 39 NA rows, so just dropping them.\n",
    "enron_df = enron_df.dropna()\n",
    "enron_df[['Subject', 'Body', 'Targets']].isna().sum()"
   ]
  },
  {
   "cell_type": "code",
   "execution_count": 210,
   "id": "65eeade5",
   "metadata": {},
   "outputs": [],
   "source": [
    "# converting all text to lowercase\n",
    "enron_df['Subject'] = enron_df['Subject'].str.lower()\n",
    "enron_df['Body'] = enron_df['Body'].str.lower()\n",
    "enron_df['Targets'] = enron_df['Targets'].str.lower()\n",
    "enron_df = enron_df[['Subject', 'Body', 'Targets']]"
   ]
  },
  {
   "cell_type": "code",
   "execution_count": 211,
   "id": "733ff8f3",
   "metadata": {},
   "outputs": [
    {
     "data": {
      "text/html": [
       "<div>\n",
       "<style scoped>\n",
       "    .dataframe tbody tr th:only-of-type {\n",
       "        vertical-align: middle;\n",
       "    }\n",
       "\n",
       "    .dataframe tbody tr th {\n",
       "        vertical-align: top;\n",
       "    }\n",
       "\n",
       "    .dataframe thead th {\n",
       "        text-align: right;\n",
       "    }\n",
       "</style>\n",
       "<table border=\"1\" class=\"dataframe\">\n",
       "  <thead>\n",
       "    <tr style=\"text-align: right;\">\n",
       "      <th></th>\n",
       "      <th>Subject</th>\n",
       "      <th>Body</th>\n",
       "      <th>Targets</th>\n",
       "    </tr>\n",
       "  </thead>\n",
       "  <tbody>\n",
       "    <tr>\n",
       "      <th>0</th>\n",
       "      <td>opportunities</td>\n",
       "      <td>sally,  thanks for taking the time to meet wit...</td>\n",
       "      <td>hr</td>\n",
       "    </tr>\n",
       "    <tr>\n",
       "      <th>1</th>\n",
       "      <td>resume - jasmine master katrak</td>\n",
       "      <td>toni -  sally suggested i forward this resume ...</td>\n",
       "      <td>hr</td>\n",
       "    </tr>\n",
       "    <tr>\n",
       "      <th>2</th>\n",
       "      <td>resume for margaret dhont</td>\n",
       "      <td>sally,  as discussed, attached below is the re...</td>\n",
       "      <td>hr</td>\n",
       "    </tr>\n",
       "    <tr>\n",
       "      <th>3</th>\n",
       "      <td>re: associates prc meeting</td>\n",
       "      <td>here's my resume for your review.    grant w. ...</td>\n",
       "      <td>hr</td>\n",
       "    </tr>\n",
       "    <tr>\n",
       "      <th>4</th>\n",
       "      <td>mid year review - resume</td>\n",
       "      <td>sally,  per your request, here is a copy of my...</td>\n",
       "      <td>hr</td>\n",
       "    </tr>\n",
       "    <tr>\n",
       "      <th>...</th>\n",
       "      <td>...</td>\n",
       "      <td>...</td>\n",
       "      <td>...</td>\n",
       "    </tr>\n",
       "    <tr>\n",
       "      <th>3525</th>\n",
       "      <td>re: eta's</td>\n",
       "      <td>bob,   all latest etas (to my knowledge) are i...</td>\n",
       "      <td>sale</td>\n",
       "    </tr>\n",
       "    <tr>\n",
       "      <th>3526</th>\n",
       "      <td>re: eta's</td>\n",
       "      <td>please ensure that any online documents that a...</td>\n",
       "      <td>sale</td>\n",
       "    </tr>\n",
       "    <tr>\n",
       "      <th>3527</th>\n",
       "      <td>re: country/state of incorporation</td>\n",
       "      <td>i think jeff like myself has been out of the o...</td>\n",
       "      <td>sale</td>\n",
       "    </tr>\n",
       "    <tr>\n",
       "      <th>3528</th>\n",
       "      <td>legal issue - customer registration</td>\n",
       "      <td>hi mark,  this is an email that i recieved fro...</td>\n",
       "      <td>sale</td>\n",
       "    </tr>\n",
       "    <tr>\n",
       "      <th>3529</th>\n",
       "      <td>missing gtc's</td>\n",
       "      <td>mark,  i notice that we have gtc's for egli li...</td>\n",
       "      <td>sale</td>\n",
       "    </tr>\n",
       "  </tbody>\n",
       "</table>\n",
       "<p>3444 rows × 3 columns</p>\n",
       "</div>"
      ],
      "text/plain": [
       "                                  Subject  \\\n",
       "0                           opportunities   \n",
       "1          resume - jasmine master katrak   \n",
       "2               resume for margaret dhont   \n",
       "3              re: associates prc meeting   \n",
       "4                mid year review - resume   \n",
       "...                                   ...   \n",
       "3525                            re: eta's   \n",
       "3526                            re: eta's   \n",
       "3527   re: country/state of incorporation   \n",
       "3528  legal issue - customer registration   \n",
       "3529                        missing gtc's   \n",
       "\n",
       "                                                   Body Targets  \n",
       "0     sally,  thanks for taking the time to meet wit...      hr  \n",
       "1     toni -  sally suggested i forward this resume ...      hr  \n",
       "2     sally,  as discussed, attached below is the re...      hr  \n",
       "3     here's my resume for your review.    grant w. ...      hr  \n",
       "4     sally,  per your request, here is a copy of my...      hr  \n",
       "...                                                 ...     ...  \n",
       "3525  bob,   all latest etas (to my knowledge) are i...    sale  \n",
       "3526  please ensure that any online documents that a...    sale  \n",
       "3527  i think jeff like myself has been out of the o...    sale  \n",
       "3528  hi mark,  this is an email that i recieved fro...    sale  \n",
       "3529  mark,  i notice that we have gtc's for egli li...    sale  \n",
       "\n",
       "[3444 rows x 3 columns]"
      ]
     },
     "execution_count": 211,
     "metadata": {},
     "output_type": "execute_result"
    }
   ],
   "source": [
    "enron_df"
   ]
  },
  {
   "cell_type": "markdown",
   "id": "4cd1e854",
   "metadata": {},
   "source": [
    "#### Explore synthetic email data"
   ]
  },
  {
   "cell_type": "code",
   "execution_count": 212,
   "id": "50a4f296",
   "metadata": {},
   "outputs": [],
   "source": [
    "csv_file_path = os.path.join('.', 'finance_emails.csv')\n",
    "finance_df = pd.read_csv(csv_file_path)"
   ]
  },
  {
   "cell_type": "code",
   "execution_count": 213,
   "id": "22a7bc61",
   "metadata": {},
   "outputs": [
    {
     "data": {
      "text/html": [
       "<div>\n",
       "<style scoped>\n",
       "    .dataframe tbody tr th:only-of-type {\n",
       "        vertical-align: middle;\n",
       "    }\n",
       "\n",
       "    .dataframe tbody tr th {\n",
       "        vertical-align: top;\n",
       "    }\n",
       "\n",
       "    .dataframe thead th {\n",
       "        text-align: right;\n",
       "    }\n",
       "</style>\n",
       "<table border=\"1\" class=\"dataframe\">\n",
       "  <thead>\n",
       "    <tr style=\"text-align: right;\">\n",
       "      <th></th>\n",
       "      <th>Subject</th>\n",
       "      <th>Body</th>\n",
       "      <th>Targets</th>\n",
       "    </tr>\n",
       "  </thead>\n",
       "  <tbody>\n",
       "    <tr>\n",
       "      <th>0</th>\n",
       "      <td>Clarification Needed on Incentive Program</td>\n",
       "      <td>I hope this email finds you well. I am writing...</td>\n",
       "      <td>Finance</td>\n",
       "    </tr>\n",
       "    <tr>\n",
       "      <th>1</th>\n",
       "      <td>Seeking Clarity on Incentive Program Details</td>\n",
       "      <td>I trust this email finds you well. I wanted to...</td>\n",
       "      <td>Finance</td>\n",
       "    </tr>\n",
       "    <tr>\n",
       "      <th>2</th>\n",
       "      <td>Questions Regarding Incentive Program Parameters</td>\n",
       "      <td>I hope you're doing well. I wanted to reach ou...</td>\n",
       "      <td>Finance</td>\n",
       "    </tr>\n",
       "    <tr>\n",
       "      <th>3</th>\n",
       "      <td>Inquiry Regarding Incentive Program Mechanics</td>\n",
       "      <td>I hope this email finds you well. I recently l...</td>\n",
       "      <td>Finance</td>\n",
       "    </tr>\n",
       "    <tr>\n",
       "      <th>4</th>\n",
       "      <td>Seeking Clarity on Incentive Program Guidelines</td>\n",
       "      <td>I trust this email finds you well. I am reachi...</td>\n",
       "      <td>Finance</td>\n",
       "    </tr>\n",
       "  </tbody>\n",
       "</table>\n",
       "</div>"
      ],
      "text/plain": [
       "                                            Subject  \\\n",
       "0         Clarification Needed on Incentive Program   \n",
       "1      Seeking Clarity on Incentive Program Details   \n",
       "2  Questions Regarding Incentive Program Parameters   \n",
       "3     Inquiry Regarding Incentive Program Mechanics   \n",
       "4   Seeking Clarity on Incentive Program Guidelines   \n",
       "\n",
       "                                                Body  Targets  \n",
       "0  I hope this email finds you well. I am writing...  Finance  \n",
       "1  I trust this email finds you well. I wanted to...  Finance  \n",
       "2  I hope you're doing well. I wanted to reach ou...  Finance  \n",
       "3  I hope this email finds you well. I recently l...  Finance  \n",
       "4  I trust this email finds you well. I am reachi...  Finance  "
      ]
     },
     "execution_count": 213,
     "metadata": {},
     "output_type": "execute_result"
    }
   ],
   "source": [
    "finance_df.head()"
   ]
  },
  {
   "cell_type": "code",
   "execution_count": 214,
   "id": "7d57eef4",
   "metadata": {},
   "outputs": [
    {
     "name": "stdout",
     "output_type": "stream",
     "text": [
      "<class 'pandas.core.frame.DataFrame'>\n",
      "RangeIndex: 593 entries, 0 to 592\n",
      "Data columns (total 3 columns):\n",
      " #   Column   Non-Null Count  Dtype \n",
      "---  ------   --------------  ----- \n",
      " 0   Subject  593 non-null    object\n",
      " 1   Body     593 non-null    object\n",
      " 2   Targets  593 non-null    object\n",
      "dtypes: object(3)\n",
      "memory usage: 14.0+ KB\n"
     ]
    }
   ],
   "source": [
    "finance_df.info()"
   ]
  },
  {
   "cell_type": "code",
   "execution_count": 215,
   "id": "151e61f5",
   "metadata": {},
   "outputs": [
    {
     "data": {
      "text/plain": [
       "Subject    0\n",
       "Body       0\n",
       "Targets    0\n",
       "dtype: int64"
      ]
     },
     "execution_count": 215,
     "metadata": {},
     "output_type": "execute_result"
    }
   ],
   "source": [
    "finance_df[['Subject', 'Body', 'Targets']].isna().sum()"
   ]
  },
  {
   "cell_type": "code",
   "execution_count": 216,
   "id": "6eee0d68",
   "metadata": {},
   "outputs": [],
   "source": [
    "finance_df['Subject'] = finance_df['Subject'].str.lower()\n",
    "finance_df['Body'] = finance_df['Body'].str.lower()\n",
    "finance_df['Targets'] = finance_df['Targets'].str.lower()"
   ]
  },
  {
   "cell_type": "code",
   "execution_count": 217,
   "id": "d8f6aa31",
   "metadata": {},
   "outputs": [
    {
     "data": {
      "text/html": [
       "<div>\n",
       "<style scoped>\n",
       "    .dataframe tbody tr th:only-of-type {\n",
       "        vertical-align: middle;\n",
       "    }\n",
       "\n",
       "    .dataframe tbody tr th {\n",
       "        vertical-align: top;\n",
       "    }\n",
       "\n",
       "    .dataframe thead th {\n",
       "        text-align: right;\n",
       "    }\n",
       "</style>\n",
       "<table border=\"1\" class=\"dataframe\">\n",
       "  <thead>\n",
       "    <tr style=\"text-align: right;\">\n",
       "      <th></th>\n",
       "      <th>Subject</th>\n",
       "      <th>Body</th>\n",
       "      <th>Targets</th>\n",
       "    </tr>\n",
       "  </thead>\n",
       "  <tbody>\n",
       "    <tr>\n",
       "      <th>0</th>\n",
       "      <td>clarification needed on incentive program</td>\n",
       "      <td>i hope this email finds you well. i am writing...</td>\n",
       "      <td>finance</td>\n",
       "    </tr>\n",
       "    <tr>\n",
       "      <th>1</th>\n",
       "      <td>seeking clarity on incentive program details</td>\n",
       "      <td>i trust this email finds you well. i wanted to...</td>\n",
       "      <td>finance</td>\n",
       "    </tr>\n",
       "    <tr>\n",
       "      <th>2</th>\n",
       "      <td>questions regarding incentive program parameters</td>\n",
       "      <td>i hope you're doing well. i wanted to reach ou...</td>\n",
       "      <td>finance</td>\n",
       "    </tr>\n",
       "    <tr>\n",
       "      <th>3</th>\n",
       "      <td>inquiry regarding incentive program mechanics</td>\n",
       "      <td>i hope this email finds you well. i recently l...</td>\n",
       "      <td>finance</td>\n",
       "    </tr>\n",
       "    <tr>\n",
       "      <th>4</th>\n",
       "      <td>seeking clarity on incentive program guidelines</td>\n",
       "      <td>i trust this email finds you well. i am reachi...</td>\n",
       "      <td>finance</td>\n",
       "    </tr>\n",
       "    <tr>\n",
       "      <th>...</th>\n",
       "      <td>...</td>\n",
       "      <td>...</td>\n",
       "      <td>...</td>\n",
       "    </tr>\n",
       "    <tr>\n",
       "      <th>588</th>\n",
       "      <td>transparent inquiry regarding company trip bud...</td>\n",
       "      <td>i hope you're doing well. as we plan for organ...</td>\n",
       "      <td>finance</td>\n",
       "    </tr>\n",
       "    <tr>\n",
       "      <th>589</th>\n",
       "      <td>exploring sustainable company trip options wit...</td>\n",
       "      <td>i hope this email finds you well. as part of o...</td>\n",
       "      <td>finance</td>\n",
       "    </tr>\n",
       "    <tr>\n",
       "      <th>590</th>\n",
       "      <td>inquiring about budget for remote company trip...</td>\n",
       "      <td>i hope this email finds you well. with the ris...</td>\n",
       "      <td>finance</td>\n",
       "    </tr>\n",
       "    <tr>\n",
       "      <th>591</th>\n",
       "      <td>inquiry about budget for compliance company trip</td>\n",
       "      <td>i trust you're doing well. as we prioritize co...</td>\n",
       "      <td>finance</td>\n",
       "    </tr>\n",
       "    <tr>\n",
       "      <th>592</th>\n",
       "      <td>budget inquiry for company trip event</td>\n",
       "      <td>i trust you're doing well. we have an upcoming...</td>\n",
       "      <td>finance</td>\n",
       "    </tr>\n",
       "  </tbody>\n",
       "</table>\n",
       "<p>593 rows × 3 columns</p>\n",
       "</div>"
      ],
      "text/plain": [
       "                                               Subject  \\\n",
       "0            clarification needed on incentive program   \n",
       "1         seeking clarity on incentive program details   \n",
       "2     questions regarding incentive program parameters   \n",
       "3        inquiry regarding incentive program mechanics   \n",
       "4      seeking clarity on incentive program guidelines   \n",
       "..                                                 ...   \n",
       "588  transparent inquiry regarding company trip bud...   \n",
       "589  exploring sustainable company trip options wit...   \n",
       "590  inquiring about budget for remote company trip...   \n",
       "591   inquiry about budget for compliance company trip   \n",
       "592              budget inquiry for company trip event   \n",
       "\n",
       "                                                  Body  Targets  \n",
       "0    i hope this email finds you well. i am writing...  finance  \n",
       "1    i trust this email finds you well. i wanted to...  finance  \n",
       "2    i hope you're doing well. i wanted to reach ou...  finance  \n",
       "3    i hope this email finds you well. i recently l...  finance  \n",
       "4    i trust this email finds you well. i am reachi...  finance  \n",
       "..                                                 ...      ...  \n",
       "588  i hope you're doing well. as we plan for organ...  finance  \n",
       "589  i hope this email finds you well. as part of o...  finance  \n",
       "590  i hope this email finds you well. with the ris...  finance  \n",
       "591  i trust you're doing well. as we prioritize co...  finance  \n",
       "592  i trust you're doing well. we have an upcoming...  finance  \n",
       "\n",
       "[593 rows x 3 columns]"
      ]
     },
     "execution_count": 217,
     "metadata": {},
     "output_type": "execute_result"
    }
   ],
   "source": [
    "finance_df"
   ]
  },
  {
   "cell_type": "code",
   "execution_count": 218,
   "id": "5080a15a",
   "metadata": {},
   "outputs": [],
   "source": [
    "csv_file_path = os.path.join('.', 'it_emails.csv')\n",
    "it_df = pd.read_csv(csv_file_path)"
   ]
  },
  {
   "cell_type": "code",
   "execution_count": 219,
   "id": "63b4b656",
   "metadata": {},
   "outputs": [
    {
     "data": {
      "text/html": [
       "<div>\n",
       "<style scoped>\n",
       "    .dataframe tbody tr th:only-of-type {\n",
       "        vertical-align: middle;\n",
       "    }\n",
       "\n",
       "    .dataframe tbody tr th {\n",
       "        vertical-align: top;\n",
       "    }\n",
       "\n",
       "    .dataframe thead th {\n",
       "        text-align: right;\n",
       "    }\n",
       "</style>\n",
       "<table border=\"1\" class=\"dataframe\">\n",
       "  <thead>\n",
       "    <tr style=\"text-align: right;\">\n",
       "      <th></th>\n",
       "      <th>Subject</th>\n",
       "      <th>Body</th>\n",
       "      <th>Targets</th>\n",
       "    </tr>\n",
       "  </thead>\n",
       "  <tbody>\n",
       "    <tr>\n",
       "      <th>0</th>\n",
       "      <td>Critical System Failure</td>\n",
       "      <td>We regret to inform you that our system has en...</td>\n",
       "      <td>IT</td>\n",
       "    </tr>\n",
       "    <tr>\n",
       "      <th>1</th>\n",
       "      <td>Network Connectivity Issues</td>\n",
       "      <td>We're writing to inform you that our network i...</td>\n",
       "      <td>IT</td>\n",
       "    </tr>\n",
       "    <tr>\n",
       "      <th>2</th>\n",
       "      <td>Software Application Crash</td>\n",
       "      <td>We're reaching out to inform you about a criti...</td>\n",
       "      <td>IT</td>\n",
       "    </tr>\n",
       "    <tr>\n",
       "      <th>3</th>\n",
       "      <td>Server Hardware Failure</td>\n",
       "      <td>We regret to inform you that one of our server...</td>\n",
       "      <td>IT</td>\n",
       "    </tr>\n",
       "    <tr>\n",
       "      <th>4</th>\n",
       "      <td>Immediate Attention Required</td>\n",
       "      <td>I hope this email finds you well. Our system d...</td>\n",
       "      <td>IT</td>\n",
       "    </tr>\n",
       "  </tbody>\n",
       "</table>\n",
       "</div>"
      ],
      "text/plain": [
       "                        Subject  \\\n",
       "0       Critical System Failure   \n",
       "1   Network Connectivity Issues   \n",
       "2    Software Application Crash   \n",
       "3       Server Hardware Failure   \n",
       "4  Immediate Attention Required   \n",
       "\n",
       "                                                Body Targets  \n",
       "0  We regret to inform you that our system has en...      IT  \n",
       "1  We're writing to inform you that our network i...      IT  \n",
       "2  We're reaching out to inform you about a criti...      IT  \n",
       "3  We regret to inform you that one of our server...      IT  \n",
       "4  I hope this email finds you well. Our system d...      IT  "
      ]
     },
     "execution_count": 219,
     "metadata": {},
     "output_type": "execute_result"
    }
   ],
   "source": [
    "it_df.head()"
   ]
  },
  {
   "cell_type": "code",
   "execution_count": 220,
   "id": "226f6b4f",
   "metadata": {},
   "outputs": [
    {
     "name": "stdout",
     "output_type": "stream",
     "text": [
      "<class 'pandas.core.frame.DataFrame'>\n",
      "RangeIndex: 760 entries, 0 to 759\n",
      "Data columns (total 3 columns):\n",
      " #   Column   Non-Null Count  Dtype \n",
      "---  ------   --------------  ----- \n",
      " 0   Subject  760 non-null    object\n",
      " 1   Body     760 non-null    object\n",
      " 2   Targets  760 non-null    object\n",
      "dtypes: object(3)\n",
      "memory usage: 17.9+ KB\n"
     ]
    }
   ],
   "source": [
    "it_df.info()"
   ]
  },
  {
   "cell_type": "code",
   "execution_count": 221,
   "id": "8a5c8797",
   "metadata": {},
   "outputs": [
    {
     "data": {
      "text/plain": [
       "Subject    0\n",
       "Body       0\n",
       "Targets    0\n",
       "dtype: int64"
      ]
     },
     "execution_count": 221,
     "metadata": {},
     "output_type": "execute_result"
    }
   ],
   "source": [
    "it_df[['Subject', 'Body', 'Targets']].isna().sum()"
   ]
  },
  {
   "cell_type": "code",
   "execution_count": 222,
   "id": "b2ae473e",
   "metadata": {},
   "outputs": [
    {
     "data": {
      "text/html": [
       "<div>\n",
       "<style scoped>\n",
       "    .dataframe tbody tr th:only-of-type {\n",
       "        vertical-align: middle;\n",
       "    }\n",
       "\n",
       "    .dataframe tbody tr th {\n",
       "        vertical-align: top;\n",
       "    }\n",
       "\n",
       "    .dataframe thead th {\n",
       "        text-align: right;\n",
       "    }\n",
       "</style>\n",
       "<table border=\"1\" class=\"dataframe\">\n",
       "  <thead>\n",
       "    <tr style=\"text-align: right;\">\n",
       "      <th></th>\n",
       "      <th>Subject</th>\n",
       "      <th>Body</th>\n",
       "      <th>Targets</th>\n",
       "    </tr>\n",
       "  </thead>\n",
       "  <tbody>\n",
       "    <tr>\n",
       "      <th>0</th>\n",
       "      <td>critical system failure</td>\n",
       "      <td>we regret to inform you that our system has en...</td>\n",
       "      <td>it</td>\n",
       "    </tr>\n",
       "    <tr>\n",
       "      <th>1</th>\n",
       "      <td>network connectivity issues</td>\n",
       "      <td>we're writing to inform you that our network i...</td>\n",
       "      <td>it</td>\n",
       "    </tr>\n",
       "    <tr>\n",
       "      <th>2</th>\n",
       "      <td>software application crash</td>\n",
       "      <td>we're reaching out to inform you about a criti...</td>\n",
       "      <td>it</td>\n",
       "    </tr>\n",
       "    <tr>\n",
       "      <th>3</th>\n",
       "      <td>server hardware failure</td>\n",
       "      <td>we regret to inform you that one of our server...</td>\n",
       "      <td>it</td>\n",
       "    </tr>\n",
       "    <tr>\n",
       "      <th>4</th>\n",
       "      <td>immediate attention required</td>\n",
       "      <td>i hope this email finds you well. our system d...</td>\n",
       "      <td>it</td>\n",
       "    </tr>\n",
       "  </tbody>\n",
       "</table>\n",
       "</div>"
      ],
      "text/plain": [
       "                        Subject  \\\n",
       "0       critical system failure   \n",
       "1   network connectivity issues   \n",
       "2    software application crash   \n",
       "3       server hardware failure   \n",
       "4  immediate attention required   \n",
       "\n",
       "                                                Body Targets  \n",
       "0  we regret to inform you that our system has en...      it  \n",
       "1  we're writing to inform you that our network i...      it  \n",
       "2  we're reaching out to inform you about a criti...      it  \n",
       "3  we regret to inform you that one of our server...      it  \n",
       "4  i hope this email finds you well. our system d...      it  "
      ]
     },
     "execution_count": 222,
     "metadata": {},
     "output_type": "execute_result"
    }
   ],
   "source": [
    "it_df['Subject'] = it_df['Subject'].str.lower()\n",
    "it_df['Body'] = it_df['Body'].str.lower()\n",
    "it_df['Targets'] = it_df['Targets'].str.lower()\n",
    "it_df.head()"
   ]
  },
  {
   "cell_type": "markdown",
   "id": "f0c6e1b8",
   "metadata": {},
   "source": [
    "#### Concating enron_df, finance_df, it_df"
   ]
  },
  {
   "cell_type": "code",
   "execution_count": 223,
   "id": "6aa0a209",
   "metadata": {},
   "outputs": [
    {
     "data": {
      "text/html": [
       "<div>\n",
       "<style scoped>\n",
       "    .dataframe tbody tr th:only-of-type {\n",
       "        vertical-align: middle;\n",
       "    }\n",
       "\n",
       "    .dataframe tbody tr th {\n",
       "        vertical-align: top;\n",
       "    }\n",
       "\n",
       "    .dataframe thead th {\n",
       "        text-align: right;\n",
       "    }\n",
       "</style>\n",
       "<table border=\"1\" class=\"dataframe\">\n",
       "  <thead>\n",
       "    <tr style=\"text-align: right;\">\n",
       "      <th></th>\n",
       "      <th>Subject</th>\n",
       "      <th>Body</th>\n",
       "      <th>Targets</th>\n",
       "    </tr>\n",
       "  </thead>\n",
       "  <tbody>\n",
       "    <tr>\n",
       "      <th>0</th>\n",
       "      <td>opportunities</td>\n",
       "      <td>sally,  thanks for taking the time to meet wit...</td>\n",
       "      <td>hr</td>\n",
       "    </tr>\n",
       "    <tr>\n",
       "      <th>1</th>\n",
       "      <td>resume - jasmine master katrak</td>\n",
       "      <td>toni -  sally suggested i forward this resume ...</td>\n",
       "      <td>hr</td>\n",
       "    </tr>\n",
       "    <tr>\n",
       "      <th>2</th>\n",
       "      <td>resume for margaret dhont</td>\n",
       "      <td>sally,  as discussed, attached below is the re...</td>\n",
       "      <td>hr</td>\n",
       "    </tr>\n",
       "    <tr>\n",
       "      <th>3</th>\n",
       "      <td>re: associates prc meeting</td>\n",
       "      <td>here's my resume for your review.    grant w. ...</td>\n",
       "      <td>hr</td>\n",
       "    </tr>\n",
       "    <tr>\n",
       "      <th>4</th>\n",
       "      <td>mid year review - resume</td>\n",
       "      <td>sally,  per your request, here is a copy of my...</td>\n",
       "      <td>hr</td>\n",
       "    </tr>\n",
       "    <tr>\n",
       "      <th>...</th>\n",
       "      <td>...</td>\n",
       "      <td>...</td>\n",
       "      <td>...</td>\n",
       "    </tr>\n",
       "    <tr>\n",
       "      <th>755</th>\n",
       "      <td>urgent</td>\n",
       "      <td>i hope you're doing well. we're facing an urge...</td>\n",
       "      <td>it</td>\n",
       "    </tr>\n",
       "    <tr>\n",
       "      <th>756</th>\n",
       "      <td>error message</td>\n",
       "      <td>i hope you're doing well. we're encountering a...</td>\n",
       "      <td>it</td>\n",
       "    </tr>\n",
       "    <tr>\n",
       "      <th>757</th>\n",
       "      <td>issue with access database</td>\n",
       "      <td>i trust you're having a good day. we're facing...</td>\n",
       "      <td>it</td>\n",
       "    </tr>\n",
       "    <tr>\n",
       "      <th>758</th>\n",
       "      <td>issue with access database</td>\n",
       "      <td>i hope this email finds you well. we're encoun...</td>\n",
       "      <td>it</td>\n",
       "    </tr>\n",
       "    <tr>\n",
       "      <th>759</th>\n",
       "      <td>assistance needed</td>\n",
       "      <td>i hope you're doing well. we're encountering i...</td>\n",
       "      <td>it</td>\n",
       "    </tr>\n",
       "  </tbody>\n",
       "</table>\n",
       "<p>4797 rows × 3 columns</p>\n",
       "</div>"
      ],
      "text/plain": [
       "                            Subject  \\\n",
       "0                     opportunities   \n",
       "1    resume - jasmine master katrak   \n",
       "2         resume for margaret dhont   \n",
       "3        re: associates prc meeting   \n",
       "4          mid year review - resume   \n",
       "..                              ...   \n",
       "755                          urgent   \n",
       "756                   error message   \n",
       "757      issue with access database   \n",
       "758      issue with access database   \n",
       "759               assistance needed   \n",
       "\n",
       "                                                  Body Targets  \n",
       "0    sally,  thanks for taking the time to meet wit...      hr  \n",
       "1    toni -  sally suggested i forward this resume ...      hr  \n",
       "2    sally,  as discussed, attached below is the re...      hr  \n",
       "3    here's my resume for your review.    grant w. ...      hr  \n",
       "4    sally,  per your request, here is a copy of my...      hr  \n",
       "..                                                 ...     ...  \n",
       "755  i hope you're doing well. we're facing an urge...      it  \n",
       "756  i hope you're doing well. we're encountering a...      it  \n",
       "757  i trust you're having a good day. we're facing...      it  \n",
       "758  i hope this email finds you well. we're encoun...      it  \n",
       "759  i hope you're doing well. we're encountering i...      it  \n",
       "\n",
       "[4797 rows x 3 columns]"
      ]
     },
     "execution_count": 223,
     "metadata": {},
     "output_type": "execute_result"
    }
   ],
   "source": [
    "data_df = pd.concat([enron_df, finance_df, it_df], axis=0)\n",
    "data_df"
   ]
  },
  {
   "cell_type": "code",
   "execution_count": 224,
   "id": "240498cf",
   "metadata": {},
   "outputs": [
    {
     "data": {
      "text/plain": [
       "(4797, 3)"
      ]
     },
     "execution_count": 224,
     "metadata": {},
     "output_type": "execute_result"
    }
   ],
   "source": [
    "data_df.shape"
   ]
  },
  {
   "cell_type": "markdown",
   "id": "7ecd7428",
   "metadata": {},
   "source": [
    "# 3. Feature engineering"
   ]
  },
  {
   "cell_type": "markdown",
   "id": "ad6e7c9e",
   "metadata": {},
   "source": [
    "#### Email summary information before featurization"
   ]
  },
  {
   "cell_type": "code",
   "execution_count": 225,
   "id": "c151aec7",
   "metadata": {},
   "outputs": [
    {
     "name": "stdout",
     "output_type": "stream",
     "text": [
      "Total Documents:  4797\n",
      "Document Length: 4478236 words\n",
      "Average Document Length: 933.5493016468627 words\n",
      "Vocabulary Size: 434069 unique words\n"
     ]
    }
   ],
   "source": [
    "summarize_emails(data_df)"
   ]
  },
  {
   "cell_type": "code",
   "execution_count": 226,
   "id": "b81d8508",
   "metadata": {},
   "outputs": [
    {
     "name": "stdout",
     "output_type": "stream",
     "text": [
      "Total Documents:  4797\n",
      "Document Length: 4478236 words\n",
      "Average Document Length: 933.5493016468627 words\n",
      "Vocabulary Size: 434069 unique words\n"
     ]
    }
   ],
   "source": [
    "data_df['Subject_Body'] = data_df['Subject'] + ' ' + data_df['Body']\n",
    "data_df['Subject_Body'] = data_df['Subject_Body'].apply(remove_stopwords_and_punctuation)\n",
    "summarize_emails(data_df)"
   ]
  },
  {
   "cell_type": "code",
   "execution_count": 227,
   "id": "58fc156a",
   "metadata": {},
   "outputs": [
    {
     "data": {
      "text/html": [
       "<div>\n",
       "<style scoped>\n",
       "    .dataframe tbody tr th:only-of-type {\n",
       "        vertical-align: middle;\n",
       "    }\n",
       "\n",
       "    .dataframe tbody tr th {\n",
       "        vertical-align: top;\n",
       "    }\n",
       "\n",
       "    .dataframe thead th {\n",
       "        text-align: right;\n",
       "    }\n",
       "</style>\n",
       "<table border=\"1\" class=\"dataframe\">\n",
       "  <thead>\n",
       "    <tr style=\"text-align: right;\">\n",
       "      <th></th>\n",
       "      <th>Subject</th>\n",
       "      <th>Body</th>\n",
       "      <th>Targets</th>\n",
       "      <th>Subject_Body</th>\n",
       "    </tr>\n",
       "  </thead>\n",
       "  <tbody>\n",
       "    <tr>\n",
       "      <th>0</th>\n",
       "      <td>opportunities</td>\n",
       "      <td>sally,  thanks for taking the time to meet wit...</td>\n",
       "      <td>hr</td>\n",
       "      <td>opportunities sally thanks taking time meet to...</td>\n",
       "    </tr>\n",
       "    <tr>\n",
       "      <th>1</th>\n",
       "      <td>resume - jasmine master katrak</td>\n",
       "      <td>toni -  sally suggested i forward this resume ...</td>\n",
       "      <td>hr</td>\n",
       "      <td>resume jasmine master katrak toni sally sugges...</td>\n",
       "    </tr>\n",
       "    <tr>\n",
       "      <th>2</th>\n",
       "      <td>resume for margaret dhont</td>\n",
       "      <td>sally,  as discussed, attached below is the re...</td>\n",
       "      <td>hr</td>\n",
       "      <td>resume margaret dhont sally discussed attached...</td>\n",
       "    </tr>\n",
       "    <tr>\n",
       "      <th>3</th>\n",
       "      <td>re: associates prc meeting</td>\n",
       "      <td>here's my resume for your review.    grant w. ...</td>\n",
       "      <td>hr</td>\n",
       "      <td>associates prc meeting resume review grant zim...</td>\n",
       "    </tr>\n",
       "    <tr>\n",
       "      <th>4</th>\n",
       "      <td>mid year review - resume</td>\n",
       "      <td>sally,  per your request, here is a copy of my...</td>\n",
       "      <td>hr</td>\n",
       "      <td>mid year review resume sally per request copy ...</td>\n",
       "    </tr>\n",
       "    <tr>\n",
       "      <th>...</th>\n",
       "      <td>...</td>\n",
       "      <td>...</td>\n",
       "      <td>...</td>\n",
       "      <td>...</td>\n",
       "    </tr>\n",
       "    <tr>\n",
       "      <th>755</th>\n",
       "      <td>urgent</td>\n",
       "      <td>i hope you're doing well. we're facing an urge...</td>\n",
       "      <td>it</td>\n",
       "      <td>urgent hope well facing urgent issue indexing ...</td>\n",
       "    </tr>\n",
       "    <tr>\n",
       "      <th>756</th>\n",
       "      <td>error message</td>\n",
       "      <td>i hope you're doing well. we're encountering a...</td>\n",
       "      <td>it</td>\n",
       "      <td>error message hope well encountering error mes...</td>\n",
       "    </tr>\n",
       "    <tr>\n",
       "      <th>757</th>\n",
       "      <td>issue with access database</td>\n",
       "      <td>i trust you're having a good day. we're facing...</td>\n",
       "      <td>it</td>\n",
       "      <td>issue access database trust good day facing ch...</td>\n",
       "    </tr>\n",
       "    <tr>\n",
       "      <th>758</th>\n",
       "      <td>issue with access database</td>\n",
       "      <td>i hope this email finds you well. we're encoun...</td>\n",
       "      <td>it</td>\n",
       "      <td>issue access database hope email finds well en...</td>\n",
       "    </tr>\n",
       "    <tr>\n",
       "      <th>759</th>\n",
       "      <td>assistance needed</td>\n",
       "      <td>i hope you're doing well. we're encountering i...</td>\n",
       "      <td>it</td>\n",
       "      <td>assistance needed hope well encountering issue...</td>\n",
       "    </tr>\n",
       "  </tbody>\n",
       "</table>\n",
       "<p>4797 rows × 4 columns</p>\n",
       "</div>"
      ],
      "text/plain": [
       "                            Subject  \\\n",
       "0                     opportunities   \n",
       "1    resume - jasmine master katrak   \n",
       "2         resume for margaret dhont   \n",
       "3        re: associates prc meeting   \n",
       "4          mid year review - resume   \n",
       "..                              ...   \n",
       "755                          urgent   \n",
       "756                   error message   \n",
       "757      issue with access database   \n",
       "758      issue with access database   \n",
       "759               assistance needed   \n",
       "\n",
       "                                                  Body Targets  \\\n",
       "0    sally,  thanks for taking the time to meet wit...      hr   \n",
       "1    toni -  sally suggested i forward this resume ...      hr   \n",
       "2    sally,  as discussed, attached below is the re...      hr   \n",
       "3    here's my resume for your review.    grant w. ...      hr   \n",
       "4    sally,  per your request, here is a copy of my...      hr   \n",
       "..                                                 ...     ...   \n",
       "755  i hope you're doing well. we're facing an urge...      it   \n",
       "756  i hope you're doing well. we're encountering a...      it   \n",
       "757  i trust you're having a good day. we're facing...      it   \n",
       "758  i hope this email finds you well. we're encoun...      it   \n",
       "759  i hope you're doing well. we're encountering i...      it   \n",
       "\n",
       "                                          Subject_Body  \n",
       "0    opportunities sally thanks taking time meet to...  \n",
       "1    resume jasmine master katrak toni sally sugges...  \n",
       "2    resume margaret dhont sally discussed attached...  \n",
       "3    associates prc meeting resume review grant zim...  \n",
       "4    mid year review resume sally per request copy ...  \n",
       "..                                                 ...  \n",
       "755  urgent hope well facing urgent issue indexing ...  \n",
       "756  error message hope well encountering error mes...  \n",
       "757  issue access database trust good day facing ch...  \n",
       "758  issue access database hope email finds well en...  \n",
       "759  assistance needed hope well encountering issue...  \n",
       "\n",
       "[4797 rows x 4 columns]"
      ]
     },
     "execution_count": 227,
     "metadata": {},
     "output_type": "execute_result"
    }
   ],
   "source": [
    "data_df"
   ]
  },
  {
   "cell_type": "code",
   "execution_count": 228,
   "id": "c7fe2ff1",
   "metadata": {},
   "outputs": [],
   "source": [
    "encoder = LabelEncoder()\n",
    "data_df['Target_Encode'] = encoder.fit_transform(data_df['Targets'])"
   ]
  },
  {
   "cell_type": "code",
   "execution_count": 229,
   "id": "823c7f58",
   "metadata": {},
   "outputs": [
    {
     "data": {
      "text/plain": [
       "array(['business', 'finance', 'hr', 'it', 'sale', 'shipping'],\n",
       "      dtype=object)"
      ]
     },
     "execution_count": 229,
     "metadata": {},
     "output_type": "execute_result"
    }
   ],
   "source": [
    "encoder.classes_"
   ]
  },
  {
   "cell_type": "code",
   "execution_count": 230,
   "id": "f5acff89",
   "metadata": {},
   "outputs": [
    {
     "data": {
      "text/plain": [
       "Target_Encode  Targets \n",
       "0              business    1146\n",
       "5              shipping    1146\n",
       "3              it           760\n",
       "1              finance      593\n",
       "2              hr           589\n",
       "4              sale         563\n",
       "Name: count, dtype: int64"
      ]
     },
     "execution_count": 230,
     "metadata": {},
     "output_type": "execute_result"
    }
   ],
   "source": [
    "data_df[['Target_Encode', 'Targets']].value_counts()"
   ]
  },
  {
   "cell_type": "code",
   "execution_count": 231,
   "id": "1eb2a0ac",
   "metadata": {},
   "outputs": [
    {
     "data": {
      "text/html": [
       "<div>\n",
       "<style scoped>\n",
       "    .dataframe tbody tr th:only-of-type {\n",
       "        vertical-align: middle;\n",
       "    }\n",
       "\n",
       "    .dataframe tbody tr th {\n",
       "        vertical-align: top;\n",
       "    }\n",
       "\n",
       "    .dataframe thead th {\n",
       "        text-align: right;\n",
       "    }\n",
       "</style>\n",
       "<table border=\"1\" class=\"dataframe\">\n",
       "  <thead>\n",
       "    <tr style=\"text-align: right;\">\n",
       "      <th></th>\n",
       "      <th>Subject</th>\n",
       "      <th>Body</th>\n",
       "      <th>Targets</th>\n",
       "      <th>Subject_Body</th>\n",
       "      <th>Target_Encode</th>\n",
       "    </tr>\n",
       "  </thead>\n",
       "  <tbody>\n",
       "    <tr>\n",
       "      <th>0</th>\n",
       "      <td>opportunities</td>\n",
       "      <td>sally,  thanks for taking the time to meet wit...</td>\n",
       "      <td>hr</td>\n",
       "      <td>opportunities sally thanks taking time meet to...</td>\n",
       "      <td>2</td>\n",
       "    </tr>\n",
       "    <tr>\n",
       "      <th>1</th>\n",
       "      <td>resume - jasmine master katrak</td>\n",
       "      <td>toni -  sally suggested i forward this resume ...</td>\n",
       "      <td>hr</td>\n",
       "      <td>resume jasmine master katrak toni sally sugges...</td>\n",
       "      <td>2</td>\n",
       "    </tr>\n",
       "    <tr>\n",
       "      <th>2</th>\n",
       "      <td>resume for margaret dhont</td>\n",
       "      <td>sally,  as discussed, attached below is the re...</td>\n",
       "      <td>hr</td>\n",
       "      <td>resume margaret dhont sally discussed attached...</td>\n",
       "      <td>2</td>\n",
       "    </tr>\n",
       "    <tr>\n",
       "      <th>3</th>\n",
       "      <td>re: associates prc meeting</td>\n",
       "      <td>here's my resume for your review.    grant w. ...</td>\n",
       "      <td>hr</td>\n",
       "      <td>associates prc meeting resume review grant zim...</td>\n",
       "      <td>2</td>\n",
       "    </tr>\n",
       "    <tr>\n",
       "      <th>4</th>\n",
       "      <td>mid year review - resume</td>\n",
       "      <td>sally,  per your request, here is a copy of my...</td>\n",
       "      <td>hr</td>\n",
       "      <td>mid year review resume sally per request copy ...</td>\n",
       "      <td>2</td>\n",
       "    </tr>\n",
       "    <tr>\n",
       "      <th>...</th>\n",
       "      <td>...</td>\n",
       "      <td>...</td>\n",
       "      <td>...</td>\n",
       "      <td>...</td>\n",
       "      <td>...</td>\n",
       "    </tr>\n",
       "    <tr>\n",
       "      <th>755</th>\n",
       "      <td>urgent</td>\n",
       "      <td>i hope you're doing well. we're facing an urge...</td>\n",
       "      <td>it</td>\n",
       "      <td>urgent hope well facing urgent issue indexing ...</td>\n",
       "      <td>3</td>\n",
       "    </tr>\n",
       "    <tr>\n",
       "      <th>756</th>\n",
       "      <td>error message</td>\n",
       "      <td>i hope you're doing well. we're encountering a...</td>\n",
       "      <td>it</td>\n",
       "      <td>error message hope well encountering error mes...</td>\n",
       "      <td>3</td>\n",
       "    </tr>\n",
       "    <tr>\n",
       "      <th>757</th>\n",
       "      <td>issue with access database</td>\n",
       "      <td>i trust you're having a good day. we're facing...</td>\n",
       "      <td>it</td>\n",
       "      <td>issue access database trust good day facing ch...</td>\n",
       "      <td>3</td>\n",
       "    </tr>\n",
       "    <tr>\n",
       "      <th>758</th>\n",
       "      <td>issue with access database</td>\n",
       "      <td>i hope this email finds you well. we're encoun...</td>\n",
       "      <td>it</td>\n",
       "      <td>issue access database hope email finds well en...</td>\n",
       "      <td>3</td>\n",
       "    </tr>\n",
       "    <tr>\n",
       "      <th>759</th>\n",
       "      <td>assistance needed</td>\n",
       "      <td>i hope you're doing well. we're encountering i...</td>\n",
       "      <td>it</td>\n",
       "      <td>assistance needed hope well encountering issue...</td>\n",
       "      <td>3</td>\n",
       "    </tr>\n",
       "  </tbody>\n",
       "</table>\n",
       "<p>4797 rows × 5 columns</p>\n",
       "</div>"
      ],
      "text/plain": [
       "                            Subject  \\\n",
       "0                     opportunities   \n",
       "1    resume - jasmine master katrak   \n",
       "2         resume for margaret dhont   \n",
       "3        re: associates prc meeting   \n",
       "4          mid year review - resume   \n",
       "..                              ...   \n",
       "755                          urgent   \n",
       "756                   error message   \n",
       "757      issue with access database   \n",
       "758      issue with access database   \n",
       "759               assistance needed   \n",
       "\n",
       "                                                  Body Targets  \\\n",
       "0    sally,  thanks for taking the time to meet wit...      hr   \n",
       "1    toni -  sally suggested i forward this resume ...      hr   \n",
       "2    sally,  as discussed, attached below is the re...      hr   \n",
       "3    here's my resume for your review.    grant w. ...      hr   \n",
       "4    sally,  per your request, here is a copy of my...      hr   \n",
       "..                                                 ...     ...   \n",
       "755  i hope you're doing well. we're facing an urge...      it   \n",
       "756  i hope you're doing well. we're encountering a...      it   \n",
       "757  i trust you're having a good day. we're facing...      it   \n",
       "758  i hope this email finds you well. we're encoun...      it   \n",
       "759  i hope you're doing well. we're encountering i...      it   \n",
       "\n",
       "                                          Subject_Body  Target_Encode  \n",
       "0    opportunities sally thanks taking time meet to...              2  \n",
       "1    resume jasmine master katrak toni sally sugges...              2  \n",
       "2    resume margaret dhont sally discussed attached...              2  \n",
       "3    associates prc meeting resume review grant zim...              2  \n",
       "4    mid year review resume sally per request copy ...              2  \n",
       "..                                                 ...            ...  \n",
       "755  urgent hope well facing urgent issue indexing ...              3  \n",
       "756  error message hope well encountering error mes...              3  \n",
       "757  issue access database trust good day facing ch...              3  \n",
       "758  issue access database hope email finds well en...              3  \n",
       "759  assistance needed hope well encountering issue...              3  \n",
       "\n",
       "[4797 rows x 5 columns]"
      ]
     },
     "execution_count": 231,
     "metadata": {},
     "output_type": "execute_result"
    }
   ],
   "source": [
    "data_df"
   ]
  },
  {
   "cell_type": "code",
   "execution_count": 232,
   "id": "3ae6655a",
   "metadata": {},
   "outputs": [
    {
     "data": {
      "text/plain": [
       "Targets\n",
       "shipping    1146\n",
       "business    1146\n",
       "it           760\n",
       "finance      593\n",
       "hr           589\n",
       "sale         563\n",
       "Name: count, dtype: int64"
      ]
     },
     "execution_count": 232,
     "metadata": {},
     "output_type": "execute_result"
    }
   ],
   "source": [
    "data_df['Targets'].value_counts()"
   ]
  },
  {
   "cell_type": "code",
   "execution_count": 233,
   "id": "8e8cc9e6",
   "metadata": {},
   "outputs": [],
   "source": [
    "train_data, test_data = train_test_split(data_df[['Subject_Body', 'Target_Encode']], random_state=100)"
   ]
  },
  {
   "cell_type": "markdown",
   "id": "13992a7e",
   "metadata": {},
   "source": [
    "# 4. Data Transformation"
   ]
  },
  {
   "cell_type": "code",
   "execution_count": 234,
   "id": "e15c3b98",
   "metadata": {},
   "outputs": [
    {
     "name": "stdout",
     "output_type": "stream",
     "text": [
      "Execution time (sec):  0.742027759552002\n"
     ]
    }
   ],
   "source": [
    "start = time.time()\n",
    "count_vectorizer = CountVectorizer()\n",
    "bow_transform = CountVectorizer()\n",
    "X_train_bow = bow_transform.fit_transform(train_data['Subject_Body'])\n",
    "X_test_bow = bow_transform.transform(test_data['Subject_Body'])\n",
    "end = time.time()\n",
    "print(\"Execution time (sec): \",(end - start))"
   ]
  },
  {
   "cell_type": "code",
   "execution_count": 235,
   "id": "a1199c50",
   "metadata": {},
   "outputs": [
    {
     "data": {
      "text/plain": [
       "(3597, 16114)"
      ]
     },
     "execution_count": 235,
     "metadata": {},
     "output_type": "execute_result"
    }
   ],
   "source": [
    "X_train_bow.shape"
   ]
  },
  {
   "cell_type": "code",
   "execution_count": 236,
   "id": "2d1eabab",
   "metadata": {},
   "outputs": [
    {
     "data": {
      "text/plain": [
       "(1200, 16114)"
      ]
     },
     "execution_count": 236,
     "metadata": {},
     "output_type": "execute_result"
    }
   ],
   "source": [
    "X_test_bow.shape"
   ]
  },
  {
   "cell_type": "code",
   "execution_count": 237,
   "id": "33fe7f7d",
   "metadata": {},
   "outputs": [],
   "source": [
    "sm = SMOTE(random_state=42)\n",
    "X_res, y_res = sm.fit_resample(X_train_bow, train_data['Target_Encode'])"
   ]
  },
  {
   "cell_type": "code",
   "execution_count": 238,
   "id": "e8baf3f1",
   "metadata": {},
   "outputs": [
    {
     "data": {
      "text/plain": [
       "Target_Encode\n",
       "2    863\n",
       "3    863\n",
       "1    863\n",
       "0    863\n",
       "5    863\n",
       "4    863\n",
       "Name: count, dtype: int64"
      ]
     },
     "execution_count": 238,
     "metadata": {},
     "output_type": "execute_result"
    }
   ],
   "source": [
    "y_res.value_counts()"
   ]
  },
  {
   "cell_type": "code",
   "execution_count": 239,
   "id": "af1dd8bd",
   "metadata": {},
   "outputs": [
    {
     "data": {
      "text/plain": [
       "(5178, 16114)"
      ]
     },
     "execution_count": 239,
     "metadata": {},
     "output_type": "execute_result"
    }
   ],
   "source": [
    "X_res.shape"
   ]
  },
  {
   "cell_type": "markdown",
   "id": "aa0dd226",
   "metadata": {},
   "source": [
    "# 5. Cross validation and model selection"
   ]
  },
  {
   "cell_type": "markdown",
   "id": "3e6b3979",
   "metadata": {},
   "source": [
    "#### MultinomialNB algorithm"
   ]
  },
  {
   "cell_type": "code",
   "execution_count": 240,
   "id": "ad454eeb",
   "metadata": {},
   "outputs": [
    {
     "name": "stdout",
     "output_type": "stream",
     "text": [
      "accuracy:  0.9721862234905713\n",
      "f1_score:  0.9721774276578958\n",
      "Jaccard_index:  0.9466438670209776\n",
      "time (sec):  0.14838480949401855\n",
      "\n",
      "\n"
     ]
    }
   ],
   "source": [
    "model = MultinomialNB()\n",
    "perform_cross_validation_and_report(model, X_res, y_res)"
   ]
  },
  {
   "cell_type": "code",
   "execution_count": 241,
   "id": "419c4f19",
   "metadata": {},
   "outputs": [
    {
     "data": {
      "image/png": "[encoded data removed]",
      "text/plain": [
       "<Figure size 1000x600 with 1 Axes>"
      ]
     },
     "metadata": {},
     "output_type": "display_data"
    }
   ],
   "source": [
    "# Initialize MultinomialNB classifier\n",
    "model = MultinomialNB()\n",
    "\n",
    "perform_learning_curve_and_visualizarion(model, X_train_bow, train_data['Target_Encode'])"
   ]
  },
  {
   "cell_type": "code",
   "execution_count": 242,
   "id": "34301570",
   "metadata": {},
   "outputs": [
    {
     "name": "stdout",
     "output_type": "stream",
     "text": [
      "Best hyperparameters: {'alpha': 0.1, 'fit_prior': True}\n",
      "-------------------------------------------------------------------------------------------------------------\n",
      "Train accuracy: 0.9874468906913866\n",
      "Test accuracy: 0.9783333333333334\n",
      "-------------------------------------------------------------------------------------------------------------\n",
      "              precision    recall  f1-score   support\n",
      "\n",
      "    business       0.97      0.99      0.98       283\n",
      "     finance       1.00      1.00      1.00       160\n",
      "          hr       0.95      0.99      0.97       141\n",
      "          it       1.00      1.00      1.00       188\n",
      "        sale       0.96      0.99      0.97       145\n",
      "    shipping       0.99      0.94      0.96       283\n",
      "\n",
      "    accuracy                           0.98      1200\n",
      "   macro avg       0.98      0.98      0.98      1200\n",
      "weighted avg       0.98      0.98      0.98      1200\n",
      "\n",
      "-------------------------------------------------------------------------------------------------------------\n"
     ]
    },
    {
     "data": {
      "image/png": "[encoded data removed]",
      "text/plain": [
       "<Figure size 800x600 with 2 Axes>"
      ]
     },
     "metadata": {},
     "output_type": "display_data"
    }
   ],
   "source": [
    "# Initialize MultinomialNB classifier\n",
    "model = MultinomialNB()\n",
    "\n",
    "# Define hyperparameters grid to search\n",
    "param_grid = {\n",
    "    'alpha': [0.1, 0.5, 1.0, 2.0],\n",
    "    'fit_prior': [True, False]\n",
    "}\n",
    "\n",
    "best_param = hyperparameters_tuning(model, X_res, y_res, param_grid)"
   ]
  },
  {
   "cell_type": "markdown",
   "id": "a7e3e2e3",
   "metadata": {},
   "source": [
    "#### LinearSVC algorithm"
   ]
  },
  {
   "cell_type": "code",
   "execution_count": 243,
   "id": "e431416a",
   "metadata": {},
   "outputs": [
    {
     "name": "stdout",
     "output_type": "stream",
     "text": [
      "accuracy:  0.9555816686251468\n",
      "f1_score:  0.9554632530118333\n",
      "Jaccard_index:  0.916443879633758\n",
      "time (sec):  6.081887245178223\n",
      "\n",
      "\n"
     ]
    }
   ],
   "source": [
    "model =  LinearSVC(dual='auto', max_iter=9000)\n",
    "\n",
    "perform_cross_validation_and_report(model, X_res, y_res)"
   ]
  },
  {
   "cell_type": "code",
   "execution_count": 244,
   "id": "da8ec130",
   "metadata": {},
   "outputs": [
    {
     "data": {
      "image/png": "[encoded data removed]",
      "text/plain": [
       "<Figure size 1000x600 with 1 Axes>"
      ]
     },
     "metadata": {},
     "output_type": "display_data"
    }
   ],
   "source": [
    "# Initialize LinearSVC classifier\n",
    "model = LinearSVC(dual='auto')\n",
    "\n",
    "perform_learning_curve_and_visualizarion(model, X_train_bow, train_data['Target_Encode'])"
   ]
  },
  {
   "cell_type": "code",
   "execution_count": 245,
   "id": "25ffda3e",
   "metadata": {},
   "outputs": [
    {
     "name": "stdout",
     "output_type": "stream",
     "text": [
      "Best hyperparameters: {'C': 0.01, 'penalty': 'l2'}\n",
      "-------------------------------------------------------------------------------------------------------------\n",
      "Train accuracy: 0.9922750096562379\n",
      "Test accuracy: 0.9575\n",
      "-------------------------------------------------------------------------------------------------------------\n",
      "              precision    recall  f1-score   support\n",
      "\n",
      "    business       0.96      0.94      0.95       283\n",
      "     finance       1.00      1.00      1.00       160\n",
      "          hr       0.96      0.96      0.96       141\n",
      "          it       0.99      1.00      1.00       188\n",
      "        sale       0.89      0.98      0.93       145\n",
      "    shipping       0.95      0.92      0.93       283\n",
      "\n",
      "    accuracy                           0.96      1200\n",
      "   macro avg       0.96      0.96      0.96      1200\n",
      "weighted avg       0.96      0.96      0.96      1200\n",
      "\n",
      "-------------------------------------------------------------------------------------------------------------\n"
     ]
    },
    {
     "data": {
      "image/png": "[encoded data removed]",
      "text/plain": [
       "<Figure size 800x600 with 2 Axes>"
      ]
     },
     "metadata": {},
     "output_type": "display_data"
    }
   ],
   "source": [
    "# Initialize MLPClassifier classifier\n",
    "svc = LinearSVC(dual='auto')\n",
    "\n",
    "# Define hyperparameters grid to search\n",
    "param_grid = {\n",
    "    'C': [0.001, 0.01, 0.1, 1, 10, 100],\n",
    "    'penalty': ['l1', 'l2'],\n",
    "}\n",
    "\n",
    "best_param = hyperparameters_tuning(svc, X_res, y_res, param_grid)"
   ]
  },
  {
   "cell_type": "code",
   "execution_count": null,
   "id": "f7596be7",
   "metadata": {},
   "outputs": [],
   "source": []
  }
 ],
 "metadata": {
  "kernelspec": {
   "display_name": "Python 3 (ipykernel)",
   "language": "python",
   "name": "python3"
  },
  "language_info": {
   "codemirror_mode": {
    "name": "ipython",
    "version": 3
   },
   "file_extension": ".py",
   "mimetype": "text/x-python",
   "name": "python",
   "nbconvert_exporter": "python",
   "pygments_lexer": "ipython3",
   "version": "3.11.5"
  }
 },
 "nbformat": 4,
 "nbformat_minor": 5
}
