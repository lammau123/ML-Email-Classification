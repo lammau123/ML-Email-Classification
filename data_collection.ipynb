{
 "cells": [
  {
   "cell_type": "code",
   "execution_count": 97,
   "id": "ba130da4",
   "metadata": {},
   "outputs": [],
   "source": [
    "import os\n",
    "import email\n",
    "import csv\n",
    "from datetime import datetime"
   ]
  },
  {
   "cell_type": "code",
   "execution_count": 120,
   "id": "ea7e7072",
   "metadata": {},
   "outputs": [],
   "source": [
    "path = os.path.join('.', 'enron_mail_20150507', 'maildir')\n",
    "csv_file_path = os.path.join('.', 'mails.csv')\n",
    "date_format = '%a, %d %b %Y %H:%M:%S %z'\n",
    "\n",
    "def list_all_sent_email(folder_path):\n",
    "    path = folder_path\n",
    "    sent_mails = []\n",
    "    if os.path.exists(path):\n",
    "        for name in os.listdir(path):\n",
    "            person_folder = os.path.join(path, name)\n",
    "            sent_folder = os.path.join(person_folder, 'sent')\n",
    "            if os.path.isdir(person_folder) and os.path.exists(sent_folder) and os.path.isdir(sent_folder):\n",
    "                for name in os.listdir(sent_folder):\n",
    "                    file_path = os.path.join(sent_folder, name)\n",
    "                    if os.path.isfile(file_path):\n",
    "                        sent_mails.append(file_path)\n",
    "    return sent_mails\n",
    "     \n",
    "def extract_fields(mail_content):\n",
    "    data = []\n",
    "    msg = email.message_from_string(mail_content)\n",
    "    data.append(msg['Subject'])\n",
    "    data.append(datetime.strptime(msg['Date'][:-6], date_format))\n",
    "    data.append(msg.get_payload(decode=True).decode().replace('\\t','').replace('\\n', ''))\n",
    "\n",
    "    return data\n",
    "    \n",
    "def read_mail(mail_path):\n",
    "    data = ''\n",
    "    with open(mail_path, 'r') as f:\n",
    "        data = f.read()\n",
    "    return data\n",
    "\n",
    "def extract_emails(mail_list):\n",
    "    data_list = []\n",
    "    for mail_path in mail_list:\n",
    "        data = read_mail(mail_path)\n",
    "        data_list.append(extract_fields(data))\n",
    "    return data_list\n",
    "\n",
    "def export_to_csv(csv_file_path, mail_list):\n",
    "    headers = ['Subject', 'Date', 'Body']\n",
    "    data = extract_emails(mail_list)\n",
    "    with open(csv_file_path, 'w', newline='') as f:\n",
    "        csv_writer = csv.writer(f, delimiter='\\t')\n",
    "        csv_writer.writerow(headers)\n",
    "        for row in data:\n",
    "            csv_writer.writerow(row)"
   ]
  },
  {
   "cell_type": "code",
   "execution_count": 121,
   "id": "3f7c15d8",
   "metadata": {},
   "outputs": [],
   "source": [
    "#mail_list = list_all_sent_email(path)\n",
    "export_to_csv(csv_file_path, mail_list[:4])"
   ]
  },
  {
   "cell_type": "code",
   "execution_count": 122,
   "id": "4de49b70",
   "metadata": {},
   "outputs": [],
   "source": [
    "import pandas as pd"
   ]
  },
  {
   "cell_type": "code",
   "execution_count": 123,
   "id": "45232368",
   "metadata": {},
   "outputs": [
    {
     "data": {
      "text/html": [
       "<div>\n",
       "<style scoped>\n",
       "    .dataframe tbody tr th:only-of-type {\n",
       "        vertical-align: middle;\n",
       "    }\n",
       "\n",
       "    .dataframe tbody tr th {\n",
       "        vertical-align: top;\n",
       "    }\n",
       "\n",
       "    .dataframe thead th {\n",
       "        text-align: right;\n",
       "    }\n",
       "</style>\n",
       "<table border=\"1\" class=\"dataframe\">\n",
       "  <thead>\n",
       "    <tr style=\"text-align: right;\">\n",
       "      <th></th>\n",
       "      <th>Subject</th>\n",
       "      <th>Date</th>\n",
       "      <th>Body</th>\n",
       "    </tr>\n",
       "  </thead>\n",
       "  <tbody>\n",
       "    <tr>\n",
       "      <th>0</th>\n",
       "      <td>NaN</td>\n",
       "      <td>2000-12-13 07:04:00-08:00</td>\n",
       "      <td>Attached  are two files that illustrate the fo...</td>\n",
       "    </tr>\n",
       "    <tr>\n",
       "      <th>1</th>\n",
       "      <td>Headcount</td>\n",
       "      <td>2000-12-05 07:31:00-08:00</td>\n",
       "      <td>Financial  (6)  West Desk  (14)Mid Market (16)</td>\n",
       "    </tr>\n",
       "    <tr>\n",
       "      <th>2</th>\n",
       "      <td>utilities roll</td>\n",
       "      <td>2000-09-06 08:54:00-07:00</td>\n",
       "      <td>---------------------- Forwarded by Phillip K ...</td>\n",
       "    </tr>\n",
       "    <tr>\n",
       "      <th>3</th>\n",
       "      <td>TIME SENSITIVE: Executive Impact &amp; Influence P...</td>\n",
       "      <td>2000-09-06 07:02:00-07:00</td>\n",
       "      <td>---------------------- Forwarded by Phillip K ...</td>\n",
       "    </tr>\n",
       "  </tbody>\n",
       "</table>\n",
       "</div>"
      ],
      "text/plain": [
       "                                             Subject  \\\n",
       "0                                                NaN   \n",
       "1                                          Headcount   \n",
       "2                                     utilities roll   \n",
       "3  TIME SENSITIVE: Executive Impact & Influence P...   \n",
       "\n",
       "                        Date  \\\n",
       "0  2000-12-13 07:04:00-08:00   \n",
       "1  2000-12-05 07:31:00-08:00   \n",
       "2  2000-09-06 08:54:00-07:00   \n",
       "3  2000-09-06 07:02:00-07:00   \n",
       "\n",
       "                                                Body  \n",
       "0  Attached  are two files that illustrate the fo...  \n",
       "1     Financial  (6)  West Desk  (14)Mid Market (16)  \n",
       "2  ---------------------- Forwarded by Phillip K ...  \n",
       "3  ---------------------- Forwarded by Phillip K ...  "
      ]
     },
     "execution_count": 123,
     "metadata": {},
     "output_type": "execute_result"
    }
   ],
   "source": [
    "df = pd.read_csv('mails.csv', delimiter='\\t')\n",
    "df"
   ]
  },
  {
   "cell_type": "code",
   "execution_count": 105,
   "id": "273d83e8",
   "metadata": {},
   "outputs": [
    {
     "name": "stdout",
     "output_type": "stream",
     "text": [
      "2000-12-13 07:04:00-08:00\n"
     ]
    }
   ],
   "source": [
    "from datetime import datetime\n",
    "\n",
    "# Date string\n",
    "date_string = 'Wed, 13 Dec 2000 07:04:00 -0800 (PST)'\n",
    "\n",
    "# Define the format of the date string\n",
    "date_format = '%a, %d %b %Y %H:%M:%S %z'\n",
    "\n",
    "# Convert the date string to a datetime object\n",
    "datetime_obj = datetime.strptime(date_string[:-6], date_format)\n",
    "\n",
    "# Print the datetime object\n",
    "print(datetime_obj)\n"
   ]
  },
  {
   "cell_type": "code",
   "execution_count": null,
   "id": "b582c2a6",
   "metadata": {},
   "outputs": [],
   "source": []
  }
 ],
 "metadata": {
  "kernelspec": {
   "display_name": "Python 3 (ipykernel)",
   "language": "python",
   "name": "python3"
  },
  "language_info": {
   "codemirror_mode": {
    "name": "ipython",
    "version": 3
   },
   "file_extension": ".py",
   "mimetype": "text/x-python",
   "name": "python",
   "nbconvert_exporter": "python",
   "pygments_lexer": "ipython3",
   "version": "3.11.5"
  }
 },
 "nbformat": 4,
 "nbformat_minor": 5
}
